{
 "cells": [
  {
   "cell_type": "markdown",
   "metadata": {},
   "source": [
    "# Model Order Reduction Exemple\n",
    "***\n",
    "\n",
    "\n",
    "## User Paramters\n",
    "***"
   ]
  },
  {
   "cell_type": "code",
   "execution_count": null,
   "metadata": {},
   "outputs": [],
   "source": [
    "from test_IPython_SofaLauncher import openFileName\n",
    "from test_IPython_SofaLauncher import openDirName"
   ]
  },
  {
   "cell_type": "markdown",
   "metadata": {},
   "source": [
    "- **The name of the scene you want to work on :**"
   ]
  },
  {
   "cell_type": "code",
   "execution_count": null,
   "metadata": {},
   "outputs": [],
   "source": [
    "originalScene = openFileName()\n",
    "print(\"Original Scene To Reduce :\")\n",
    "originalScene"
   ]
  },
  {
   "cell_type": "markdown",
   "metadata": {},
   "source": [
    "- **The different parameters for the node's animation :**\n",
    "\n",
    "    - toAnimate\n",
    "        - *ie : The names of sofa nodes in your scene you want to animate, the reduction will be done on the mouvement of these animation* \n",
    "    - increment\n",
    "        - *ie : By which value we increment for each animation during one step* \n",
    "    - breathTime\n",
    "        - *ie : How many step of sofa execution do we wait between each increment* \n",
    "    - maxPull\n",
    "        - *ie : The maximum value of each animation* "
   ]
  },
  {
   "cell_type": "code",
   "execution_count": null,
   "metadata": {},
   "outputs": [],
   "source": [
    "animationParam = {}\n",
    "animationParam[\"toAnimate\"] = [\"nord\",\"ouest\",\"sud\",\"est\"]\n",
    "\n",
    "nbActuator = len(animationParam[\"toAnimate\"])\n",
    "animationParam[\"increment\"] = [5]*nbActuator\n",
    "animationParam[\"breathTime\"] = [10]*nbActuator\n",
    "animationParam[\"maxPull\"] = [40]*nbActuator\n",
    "print(\"Animation Parameters :\")\n",
    "animationParam"
   ]
  },
  {
   "cell_type": "markdown",
   "metadata": {},
   "source": [
    "- **The different Tolerances :**\n",
    "\n",
    "    - tolModes\n",
    "        - *ie : With which tolerance we want to select our modes (add explanation of the selection process)* \n",
    "    - tolGIE\n",
    "        - *ie : blabla ...* "
   ]
  },
  {
   "cell_type": "code",
   "execution_count": null,
   "metadata": {},
   "outputs": [],
   "source": [
    "tolModes = 0.001\n",
    "tolGIE =  0.05"
   ]
  },
  {
   "cell_type": "markdown",
   "metadata": {},
   "source": [
    "- **Where will be all the differents results and with which name**:\n",
    "    \n",
    "    - outputDir\n",
    "        - *ie : In which directory will be saved all our results*\n",
    "    - stateFileName\n",
    "        - *ie : This file will contain the saved states (positions) of each sequences* \n",
    "    - modesFileName\n",
    "        - *ie : This file will contain the modes, each mode is a vector representing a position of our model and with a linear combination of them we will be able to describe our reduced model mouvement* \n",
    "    - gieFileName\n",
    "        - *ie : blabla ...* \n",
    "    - RIDFileName\n",
    "        - *ie : blabla ...* \n",
    "    - weightsFileName\n",
    "        - *ie : blabla ...* "
   ]
  },
  {
   "cell_type": "code",
   "execution_count": null,
   "metadata": {},
   "outputs": [],
   "source": [
    "outputDir = openDirName()\n",
    "\n",
    "fileOutPutNames = {}\n",
    "fileOutPutNames[\"stateFileName\"] = \"fullStates.state\"\n",
    "fileOutPutNames[\"modesFileName\"] = \"test_modes.txt\"\n",
    "fileOutPutNames[\"gieFileName\"] = \"fullGIE.txt\"\n",
    "fileOutPutNames[\"RIDFileName\"] = \"test_RID.txt\"\n",
    "fileOutPutNames[\"weightsFileName\"] = \"test_weight.txt\"\n",
    "\n",
    "print(\"OutputDir & fileOutPutNames choosed :\")\n",
    "outputDir, fileOutPutNames"
   ]
  },
  {
   "cell_type": "markdown",
   "metadata": {},
   "source": [
    "## Execution\n",
    "***\n"
   ]
  },
  {
   "cell_type": "markdown",
   "metadata": {},
   "source": [
    "We import the file containing our python script to make the reduction :"
   ]
  },
  {
   "cell_type": "code",
   "execution_count": null,
   "metadata": {},
   "outputs": [],
   "source": [
    "from test_IPython_SofaLauncher import myMOR"
   ]
  },
  {
   "cell_type": "markdown",
   "metadata": {},
   "source": [
    "We now initialize the script with all our previously declared variables :"
   ]
  },
  {
   "cell_type": "code",
   "execution_count": null,
   "metadata": {},
   "outputs": [],
   "source": [
    "test = myMOR(originalScene, animationParam, tolModes, tolGIE, outputDir, fileOutPutNames, verbose = False)"
   ]
  },
  {
   "cell_type": "markdown",
   "metadata": {},
   "source": [
    "- **Phase 1**\n",
    "\n",
    "   We modify the original scene to do the first step of MOR :   \n",
    "   - We add animation to each actuators we want for our model \n",
    "   - And add a writeState componant to save the shaking resulting states  "
   ]
  },
  {
   "cell_type": "code",
   "execution_count": null,
   "metadata": {},
   "outputs": [],
   "source": [
    "test.phase1()"
   ]
  },
  {
   "cell_type": "markdown",
   "metadata": {},
   "source": [
    "- **Phase 2**\n",
    "\n",
    "    With the previous result we combine all the generated state files into one to be able to extract from it the different mode"
   ]
  },
  {
   "cell_type": "code",
   "execution_count": null,
   "metadata": {
    "scrolled": false
   },
   "outputs": [],
   "source": [
    "test.phase2()"
   ]
  },
  {
   "cell_type": "code",
   "execution_count": null,
   "metadata": {},
   "outputs": [],
   "source": [
    "print(\"Maximum number of Modes : \")\n",
    "test.nbrOfModes"
   ]
  },
  {
   "cell_type": "markdown",
   "metadata": {},
   "source": [
    "- **Phase 3**\n",
    "\n",
    "    We launch again a set of sofa scene with the sofa launcher with the same previous arguments but with a different scene\n",
    "\n",
    "    This scene take the previous one and add the model order reduction component:\n",
    "    - HyperReducedFEMForceField\n",
    "    - MappedMatrixForceFieldAndMass\n",
    "    - ModelOrderReductionMapping and produce an Hyper Reduced description of the model"
   ]
  },
  {
   "cell_type": "code",
   "execution_count": null,
   "metadata": {},
   "outputs": [],
   "source": [
    "test.phase3()"
   ]
  },
  {
   "cell_type": "markdown",
   "metadata": {},
   "source": [
    "- **Phase 4**\n",
    "\n",
    "    Final step : we gather again all the results of the previous scenes into one and then compute the RID and Weigts with it. \n",
    "    Additionnally we also compute the Active Nodes\n"
   ]
  },
  {
   "cell_type": "code",
   "execution_count": null,
   "metadata": {},
   "outputs": [],
   "source": [
    "test.phase4()"
   ]
  },
  {
   "cell_type": "markdown",
   "metadata": {},
   "source": [
    "## Results\n",
    "***\n"
   ]
  },
  {
   "cell_type": "code",
   "execution_count": null,
   "metadata": {},
   "outputs": [],
   "source": [
    "%%bash\n",
    "runSofa phase3_reducedModel.py"
   ]
  }
 ],
 "metadata": {
  "kernelspec": {
   "display_name": "Python 2",
   "language": "python",
   "name": "python2"
  },
  "language_info": {
   "codemirror_mode": {
    "name": "ipython",
    "version": 2
   },
   "file_extension": ".py",
   "mimetype": "text/x-python",
   "name": "python",
   "nbconvert_exporter": "python",
   "pygments_lexer": "ipython2",
   "version": "2.7.12"
  }
 },
 "nbformat": 4,
 "nbformat_minor": 2
}
