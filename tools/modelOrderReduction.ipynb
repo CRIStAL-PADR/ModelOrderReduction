{
 "cells": [
  {
   "cell_type": "markdown",
   "metadata": {},
   "source": [
    "# Model Order Reduction Example\n",
    "\n",
    "\n",
    "## Table of contents\n",
    "***\n",
    "\n",
    "1. [Introduction](#introduction)\n",
    "2. [User Paramters](#User Paramters)\n",
    "    1. [Important Path](#Important Path)\n",
    "    2. [Reduction Parameters](#Reduction Parameters)\n",
    "        1. [nodesToReduce](#nodesToReduce)\n",
    "        2. [listObjToAnimate](#listObjToAnimate)\n",
    "        3. [Modes parameters](#Modes parameters)\n",
    "    3. [Optionnal Parameters](#Optionnal Parameters)\n",
    "3. [Execution](#Execution)\n",
    "    1. [Initialization](#Initialization)\n",
    "    2. [Phase 1](#Phase 1)\n",
    "    3. [Phase 2](#Phase 2)\n",
    "    4. [Phase 3](#Phase 3)\n",
    "    5. [Phase 4](#Phase 4)\n",
    "4. [To go Further](#To go Further)\n",
    "\n",
    "\n",
    "## Introduction <a name=\"introduction\"></a>\n",
    "***\n",
    "\n",
    "In this python notebook exemple we will see with 2 real examples how to reduce a model from one of your sofa scene thanks to the **Model Order Reduction** plugin done by the INRIA research team **Defrost**.\n",
    "\n",
    "the two examples will be :\n",
    "\n",
    "- **The Diamond** (link to example documentation)\n",
    "\n",
    "- **The Starfish** (link to example documentation)\n",
    "\n",
    "After these expample presentation we can now proceed to the reduction.\n",
    "First we have to prepare it by setting a bunch of parameters while explaining there purpose (here the parameters will be set twice, one for the diamond and one for the starfish so you will be able to switch easily between each example) "
   ]
  },
  {
   "cell_type": "markdown",
   "metadata": {},
   "source": [
    "## User Paramters <a name=\"User Paramters\"></a> \n",
    "***\n",
    "\n",
    "here some import that will be usefull for this python notebook"
   ]
  },
  {
   "cell_type": "code",
   "execution_count": null,
   "metadata": {
    "code_folding": [
     0
    ]
   },
   "outputs": [],
   "source": [
    "# Import\n",
    "import os\n",
    "import sys\n",
    "\n",
    "sys.path.append(os.getcwd()+'/../python') # TO CHANGE\n",
    "\n",
    "from plotly.offline import init_notebook_mode, iplot\n",
    "import plotly.graph_objs as go\n",
    "init_notebook_mode(connected=True)\n",
    "\n",
    "# MOR IMPORT\n",
    "import mor.script.morUtilityFunctions as ui\n",
    "from mor.script import ReduceModel\n",
    "from mor.script import ObjToAnimate"
   ]
  },
  {
   "cell_type": "markdown",
   "metadata": {},
   "source": [
    "### The first important things to set are the different path where we will work: <a name=\"Important Path\"></a> \n",
    " - The scene you want to work on\n",
    " - The folder containing its mesh\n",
    " - The folder where you want the results to be put in"
   ]
  },
  {
   "cell_type": "code",
   "execution_count": null,
   "metadata": {
    "code_folding": [
     0
    ]
   },
   "outputs": [],
   "source": [
    "# Important path\n",
    "originalScene = ui.openFileName('Select the SOFA scene you want to reduce')\n",
    "meshDir = ui.openDirName('Select the directory containing the mesh of your scene')\n",
    "outputDir = ui.openDirName('Select the directory tha will contain all the results')"
   ]
  },
  {
   "cell_type": "markdown",
   "metadata": {},
   "source": [
    "### Now The different parameters for the reduction <a name=\"Reduction Parameters\"></a>\n",
    "\n",
    "#### nodesToReduce <a name=\"nodesToReduce\"></a>\n",
    "- *ie : list containing the model path you want to reduce.\n",
    "        \n",
    "For example if you want to reduce child2 which is in the sofa graph scene a child of child1 which is a child of root you would give this path : **'/child1/child2'** * "
   ]
  },
  {
   "cell_type": "code",
   "execution_count": null,
   "metadata": {},
   "outputs": [],
   "source": [
    "nodesToReduce_DIAMOND = ['/modelNode']\n",
    "nodesToReduce_STARFISH =[('/model','/model/modelSubTopo')]"
   ]
  },
  {
   "cell_type": "markdown",
   "metadata": {},
   "source": [
    "#### listObjToAnimate <a name=\"listObjToAnimate\"></a>\n",
    "   \n",
    "- *ie : contain a list of object from the class ObjToAnimate.\n",
    "        \n",
    "A ObjToAnimate will define an object to \"animate\" during the shaking, this animation is the variation of a particular value of this object with a certain increment on a with a minumum/maximum value to attain. There are 3 important parameter to this object :\n",
    "- location : sofa node name in which we will work\n",
    "- animFct : the animation function we will use (by default defaultShaking)\n",
    "- objName : the object name we want to animate (by default None)\n",
    "        \n",
    "For exemple here we want to animate the node named \"nord\", but we won't specify either the animFct and objName so the default animation function will be used and be apply on the first default object it will find. The default function will need 2 additionnal parameters :\n",
    "- increment\n",
    "    - *ie : By which value we increment for each animation during one step* \n",
    "- maxPull\n",
    "    - *ie : The maximum value of each animation* \n",
    "            \n",
    "nord = ObjToAnimate(\"nord\", incr=5,incrPeriod=10,rangeOfAction=40)"
   ]
  },
  {
   "cell_type": "code",
   "execution_count": null,
   "metadata": {
    "code_folding": [
     0
    ],
    "scrolled": true
   },
   "outputs": [],
   "source": [
    "# animation parameters\n",
    "\n",
    "### DIAMOND ROBOT PARAM\n",
    "nord = ObjToAnimate(\"nord\", incr=5,incrPeriod=10,rangeOfAction=40)\n",
    "sud = ObjToAnimate(\"sud\",incr=5,incrPeriod=10,rangeOfAction=40)\n",
    "est = ObjToAnimate(\"est\",incr=5,incrPeriod=10,rangeOfAction=40)\n",
    "ouest = ObjToAnimate(\"ouest\",incr=5,incrPeriod=10,rangeOfAction=40)\n",
    "listObjToAnimate_DIAMOND = [nord,ouest,sud,est]\n",
    "\n",
    "\n",
    "### STARFISH ROBOT PARAM\n",
    "centerCavity = ObjToAnimate(\"centerCavity\",incr=350,incrPeriod=2,rangeOfAction=3500)\n",
    "rearLeftCavity = ObjToAnimate(\"rearLeftCavity\",incr=200,incrPeriod=2,rangeOfAction=2000)\n",
    "rearRightCavity = ObjToAnimate(\"rearRightCavity\",incr=200,incrPeriod=2,rangeOfAction=2000)\n",
    "frontLeftCavity = ObjToAnimate(\"frontLeftCavity\",incr=200,incrPeriod=2,rangeOfAction=2000)\n",
    "frontRightCavity = ObjToAnimate(\"frontRightCavity\",incr=200,incrPeriod=2,rangeOfAction=2000)\n",
    "listObjToAnimate_STARFISH = [centerCavity,rearLeftCavity,rearRightCavity,frontLeftCavity,frontRightCavity]"
   ]
  },
  {
   "cell_type": "markdown",
   "metadata": {},
   "source": [
    "#### Modes parameters <a name=\"Modes parameters\"></a>\n",
    "\n",
    "- addRigidBodyModes \n",
    "- tolModes\n",
    "    - *ie : With which tolerance we want to select our modes (add explanation of the selection process)* "
   ]
  },
  {
   "cell_type": "code",
   "execution_count": null,
   "metadata": {},
   "outputs": [],
   "source": [
    "addRigidBodyModes_DIAMOND = [0,0,0]\n",
    "addRigidBodyModes_STARFISH = [1,1,1]\n",
    "\n",
    "tolModes = 0.001"
   ]
  },
  {
   "cell_type": "markdown",
   "metadata": {},
   "source": [
    "- tolGIE\n",
    "    - *ie : blabla ...* "
   ]
  },
  {
   "cell_type": "code",
   "execution_count": null,
   "metadata": {},
   "outputs": [],
   "source": [
    "# Tolerance\n",
    "tolGIE =  0.05"
   ]
  },
  {
   "cell_type": "markdown",
   "metadata": {},
   "source": [
    "### And to finish some optionnal parameters <a name=\"Optionnal Parameters\"></a>"
   ]
  },
  {
   "cell_type": "code",
   "execution_count": null,
   "metadata": {},
   "outputs": [],
   "source": [
    "# Optionnal\n",
    "verbose = False\n",
    "\n",
    "packageName = 'test'\n",
    "addToLib = False"
   ]
  },
  {
   "cell_type": "markdown",
   "metadata": {},
   "source": [
    "We can now execute one of the reduction we choose with all these parameters"
   ]
  },
  {
   "cell_type": "markdown",
   "metadata": {},
   "source": [
    "## Execution <a name=\"Execution\"></a>\n",
    "***\n"
   ]
  },
  {
   "cell_type": "markdown",
   "metadata": {},
   "source": [
    "### Initialization <a name=\"Initialization\"></a>\n",
    "The execution is done with an object from the class ReduceModel.\n",
    "we initialize it with all the previous argument either for the Diamond or Starfish example"
   ]
  },
  {
   "cell_type": "code",
   "execution_count": null,
   "metadata": {
    "code_folding": [
     0
    ]
   },
   "outputs": [],
   "source": [
    "# Initialization of our script\n",
    "nodesToReduce = nodesToReduce_DIAMOND # nodesToReduce_STARFISH\n",
    "listObjToAnimate = listObjToAnimate_DIAMOND # listObjToAnimate_STARFISH\n",
    "addRigidBodyModes = addRigidBodyModes_DIAMOND # addRigidBodyModes_STARFISH\n",
    "\n",
    "reduceMyModel = ReduceModel(    originalScene,  \n",
    "                                nodesToReduce,\n",
    "                                listObjToAnimate,\n",
    "                                tolModes,tolGIE,\n",
    "                                outputDir,\n",
    "                                meshDir,\n",
    "                                packageName = packageName,\n",
    "                                addToLib = addToLib,\n",
    "                                verbose = verbose,\n",
    "                                addRigidBodyModes = addRigidBodyModes)"
   ]
  },
  {
   "cell_type": "markdown",
   "metadata": {},
   "source": [
    "We can finally perform the actual reduction. here is a schematic to resume the differents steps we will perform : \n",
    "\n",
    "![MOR Process Schematic](../doc/images/MOR_plugin_execution_v2.png \"MOR Process Schematic\")\n",
    "\n",
    "### Phase 1 <a name=\"Phase 1\"></a>\n",
    "\n",
    "We modify the original scene to do the first step of MOR :   \n",
    "- We add animation to each actuators we want for our model \n",
    "- And add a writeState componant to save the shaking resulting states  "
   ]
  },
  {
   "cell_type": "code",
   "execution_count": null,
   "metadata": {},
   "outputs": [],
   "source": [
    "reduceMyModel.phase1()"
   ]
  },
  {
   "cell_type": "markdown",
   "metadata": {},
   "source": [
    "### Phase 2 <a name=\"Phase 2\"></a>\n",
    "\n",
    "With the previous result we combine all the generated state files into one to be able to extract from it the different mode"
   ]
  },
  {
   "cell_type": "code",
   "execution_count": null,
   "metadata": {
    "scrolled": false
   },
   "outputs": [],
   "source": [
    "reduceMyModel.phase2()"
   ]
  },
  {
   "cell_type": "code",
   "execution_count": null,
   "metadata": {
    "code_folding": [
     0
    ],
    "scrolled": true
   },
   "outputs": [],
   "source": [
    "# Plot result\n",
    "with open(reduceMyModel.packageBuilder.debugDir+'Sdata.txt') as f:\n",
    "    content = f.readlines()\n",
    "    \n",
    "content = [x.strip() for x in content]\n",
    "\n",
    "data = [go.Bar(x=range(1, len(content)+1),\n",
    "            y=content)]\n",
    "\n",
    "iplot(data, filename='jupyter/basic_bar')"
   ]
  },
  {
   "cell_type": "code",
   "execution_count": null,
   "metadata": {},
   "outputs": [],
   "source": [
    "print(\"Maximum number of Modes : \")\n",
    "reduceMyModel.reductionParam.nbrOfModes"
   ]
  },
  {
   "cell_type": "markdown",
   "metadata": {},
   "source": [
    "### Phase 3 <a name=\"Phase 3\"></a>\n",
    "\n",
    "We launch again a set of sofa scene with the sofa launcher with the same previous arguments but with a different scene\n",
    "\n",
    "This scene take the previous one and add the model order reduction component:\n",
    "- HyperReducedFEMForceField\n",
    "- MappedMatrixForceFieldAndMass\n",
    "- ModelOrderReductionMapping and produce an Hyper Reduced description of the model"
   ]
  },
  {
   "cell_type": "code",
   "execution_count": null,
   "metadata": {},
   "outputs": [],
   "source": [
    "reduceMyModel.phase3()"
   ]
  },
  {
   "cell_type": "markdown",
   "metadata": {},
   "source": [
    "### Phase 4 <a name=\"Phase 4\"></a>\n",
    "\n",
    "Final step : we gather again all the results of the previous scenes into one and then compute the RID and Weigts with it. Additionnally we also compute the Active Nodes\n"
   ]
  },
  {
   "cell_type": "code",
   "execution_count": null,
   "metadata": {
    "scrolled": true
   },
   "outputs": [],
   "source": [
    "reducedScene = reduceMyModel.phase4()"
   ]
  },
  {
   "cell_type": "markdown",
   "metadata": {},
   "source": [
    "End of example you can now go test the results in the folder you have designed at the beginning of this tutorial\n",
    "\n",
    "## To go Further <a name=\"To go Further\"></a>\n",
    "***\n",
    "\n",
    "Here are some link to additionnal information about the plugin and a more detailed description of its operation\n",
    "\n",
    "**link to Olivier paper**\n",
    "\n",
    "**link to website doc**\n",
    "\n"
   ]
  }
 ],
 "metadata": {
  "kernelspec": {
   "display_name": "Python 2",
   "language": "python",
   "name": "python2"
  },
  "language_info": {
   "codemirror_mode": {
    "name": "ipython",
    "version": 2
   },
   "file_extension": ".py",
   "mimetype": "text/x-python",
   "name": "python",
   "nbconvert_exporter": "python",
   "pygments_lexer": "ipython2",
   "version": "2.7.12"
  }
 },
 "nbformat": 4,
 "nbformat_minor": 2
}
