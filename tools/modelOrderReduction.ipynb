{
 "cells": [
  {
   "cell_type": "markdown",
   "metadata": {},
   "source": [
    "# Model Order Reduction Example\n",
    "\n",
    "\n",
    "## Table of contents\n",
    "***\n",
    "\n",
    "1. [Introduction](#introduction)\n",
    "2. [User Paramters](#User Paramters)\n",
    "    1. [Important Path](#Important Path)\n",
    "    2. [Reduction Parameters](#Reduction Parameters)\n",
    "        1. [nodesToReduce](#nodesToReduce)\n",
    "        2. [listObjToAnimate](#listObjToAnimate)\n",
    "        3. [Modes parameters](#Modes parameters)\n",
    "    3. [Optionnal Parameters](#Optionnal Parameters)\n",
    "3. [Execution](#Execution)\n",
    "    1. [Initialization](#Initialization)\n",
    "    2. [Phase 1](#Phase 1)\n",
    "    3. [Phase 2](#Phase 2)\n",
    "    4. [Phase 3](#Phase 3)\n",
    "    5. [Phase 4](#Phase 4)\n",
    "4. [To go Further](#To go Further)\n",
    "\n",
    "\n",
    "## Introduction <a name=\"introduction\"></a>\n",
    "***\n",
    "\n",
    "In this python notebook exemple we will see with 2 real examples how to reduce a model from one of your sofa scene thanks to the **Model Order Reduction** plugin done by the INRIA research team **Defrost**.\n",
    "\n",
    "The two examples will be :\n",
    "\n",
    "- **A cable-driven silicone robot [C. Duriez, ICRA, 2013]** (link to example documentation on readtheDoc)\n",
    "![Diamond robot](../doc/sphinx/source/usage/examples/Diamond/diamondReal_scaled.png)\n",
    "- **A pneumatic Soft Robot (Multigait soft Robot [R.F. Shepherd et al, PNAS, 2011])** (link to example documentation)\n",
    "![Starfish robot](../doc/sphinx/source/usage/examples/Starfish/quadripedRealStartOfUndulation.png)\n",
    "\n",
    "To perform the reduction, a certain number of parameters have to be set. In the following we will present them and explain their purpose. Each example has its own set of parameter values and you will be able to switch easily between each example. "
   ]
  },
  {
   "cell_type": "markdown",
   "metadata": {},
   "source": [
    "## User Parameters <a name=\"User Paramters\"></a> \n",
    "***\n",
    "\n",
    "Before defining the reduction parameters, here are some \"import\" commands that will be useful for this python notebook:"
   ]
  },
  {
   "cell_type": "code",
   "execution_count": 4,
   "metadata": {
    "code_folding": []
   },
   "outputs": [],
   "source": [
    "# Import\n",
    "import os\n",
    "import sys\n",
    "\n",
    "sys.path.append(os.getcwd()+'/../python') # TO CHANGE\n",
    "\n",
    "\n",
    "# MOR IMPORT\n",
    "import mor.script.morUtilityFunctions as ui\n",
    "from mor.script import ReduceModel\n",
    "from mor.script import ObjToAnimate"
   ]
  },
  {
   "cell_type": "markdown",
   "metadata": {},
   "source": [
    "### 1 -- Paths to the SOFA scene, mesh and outputs: <a name=\"Important Path\"></a> \n",
    " - The scene you want to work on\n",
    " - The folder containing its mesh\n",
    " - The folder where you want the results to be put in"
   ]
  },
  {
   "cell_type": "code",
   "execution_count": 6,
   "metadata": {
    "code_folding": [
     0
    ]
   },
   "outputs": [],
   "source": [
    "# Important path\n",
    "originalScene = ui.openFileName('Select the SOFA scene you want to reduce')\n",
    "meshDir = ui.openDirName('Select the directory containing the mesh of your scene')\n",
    "outputDir = ui.openDirName('Select the directory that will contain all the results')"
   ]
  },
  {
   "cell_type": "markdown",
   "metadata": {},
   "source": [
    "### 2 -- The different reduction parameters <a name=\"Reduction Parameters\"></a>\n",
    "\n",
    "#### nodesToReduce <a name=\"nodesToReduce\"></a>\n",
    "- *ie : list containing the SOFA path from the rootnode to the model you want to reduce (Can be more than one for a single model if the object internal forces is computed with several contributions).\n",
    "        "
   ]
  },
  {
   "cell_type": "code",
   "execution_count": 7,
   "metadata": {},
   "outputs": [],
   "source": [
    "nodesToReduce_DIAMOND = ['/modelNode']\n",
    "nodesToReduce_STARFISH =[('/model','/model/modelSubTopo')]"
   ]
  },
  {
   "cell_type": "markdown",
   "metadata": {},
   "source": [
    "#### listObjToAnimate <a name=\"listObjToAnimate\"></a>\n",
    "   \n",
    "- *ie : contain a list of object from the class ObjToAnimate.\n",
    "        \n",
    "A ObjToAnimate will define an object to \"animate\" during the shaking, this animation is the variation of a particular value of this object with a certain increment on a with a minumum/maximum value to attain. There are 3 important parameter to this object :\n",
    "- location : sofa node name in which we will work\n",
    "- animFct : the animation function we will use (by default defaultShaking)\n",
    "- objName : the object name we want to animate (by default None)\n",
    "        \n",
    "For example here we want to animate the node named \"nord\", but we won't specify either the animFct and objName so the default animation function will be used and be apply on the first default object it will find. The default function will need 2 additionnal parameters :\n",
    "- increment\n",
    "    - *ie : By which value we increment for each animation during one step* \n",
    "- maxPull\n",
    "    - *ie : The maximum value of each animation* \n",
    "            \n",
    "nord = ObjToAnimate(\"nord\", incr=5,incrPeriod=10,rangeOfAction=40)"
   ]
  },
  {
   "cell_type": "code",
   "execution_count": 8,
   "metadata": {
    "code_folding": [],
    "scrolled": true
   },
   "outputs": [],
   "source": [
    "# animation parameters\n",
    "\n",
    "### CABLE-DRIVEN PARALLEL ROBOT PARAMETERS\n",
    "nord = ObjToAnimate(\"nord\", incr=5,incrPeriod=10,rangeOfAction=40)\n",
    "sud = ObjToAnimate(\"sud\",incr=5,incrPeriod=10,rangeOfAction=40)\n",
    "est = ObjToAnimate(\"est\",incr=5,incrPeriod=10,rangeOfAction=40)\n",
    "ouest = ObjToAnimate(\"ouest\",incr=5,incrPeriod=10,rangeOfAction=40)\n",
    "listObjToAnimate_DIAMOND = [nord,ouest,sud,est]\n",
    "\n",
    "\n",
    "### MULTIGAIT SOFT ROBOT PARAMETERS\n",
    "centerCavity = ObjToAnimate(\"centerCavity\",incr=350,incrPeriod=2,rangeOfAction=3500)\n",
    "rearLeftCavity = ObjToAnimate(\"rearLeftCavity\",incr=200,incrPeriod=2,rangeOfAction=2000)\n",
    "rearRightCavity = ObjToAnimate(\"rearRightCavity\",incr=200,incrPeriod=2,rangeOfAction=2000)\n",
    "frontLeftCavity = ObjToAnimate(\"frontLeftCavity\",incr=200,incrPeriod=2,rangeOfAction=2000)\n",
    "frontRightCavity = ObjToAnimate(\"frontRightCavity\",incr=200,incrPeriod=2,rangeOfAction=2000)\n",
    "listObjToAnimate_STARFISH = [centerCavity,rearLeftCavity,rearRightCavity,frontLeftCavity,frontRightCavity]"
   ]
  },
  {
   "cell_type": "markdown",
   "metadata": {},
   "source": [
    "#### Modes parameters <a name=\"Modes parameters\"></a>\n",
    "\n",
    "- addRigidBodyModes (Defines if the ability of to translate along the x, y , z directions should be included in the reduced model of the object)\n",
    "- tolModes ( Defines the level of accuracy we want to select the reduced basis modes)  "
   ]
  },
  {
   "cell_type": "code",
   "execution_count": 10,
   "metadata": {},
   "outputs": [],
   "source": [
    "addRigidBodyModes_DIAMOND = [0,0,0]\n",
    "addRigidBodyModes_STARFISH = [1,1,1]\n",
    "\n",
    "tolModes = 0.001"
   ]
  },
  {
   "cell_type": "markdown",
   "metadata": {},
   "source": [
    "- tolGIE\n",
    "    - *ie : blabla ...* "
   ]
  },
  {
   "cell_type": "code",
   "execution_count": 11,
   "metadata": {},
   "outputs": [],
   "source": [
    "# Tolerance\n",
    "tolGIE =  0.05"
   ]
  },
  {
   "cell_type": "markdown",
   "metadata": {},
   "source": [
    "### 3 -- Optional parameters <a name=\"Optionnal Parameters\"></a>"
   ]
  },
  {
   "cell_type": "code",
   "execution_count": 12,
   "metadata": {},
   "outputs": [],
   "source": [
    "# Optionnal\n",
    "verbose = False\n",
    "\n",
    "packageName = 'test'\n",
    "addToLib = False"
   ]
  },
  {
   "cell_type": "markdown",
   "metadata": {},
   "source": [
    "We can now execute one of the reduction we choose with all these parameters"
   ]
  },
  {
   "cell_type": "markdown",
   "metadata": {},
   "source": [
    "## Execution <a name=\"Execution\"></a>\n",
    "***\n"
   ]
  },
  {
   "cell_type": "markdown",
   "metadata": {},
   "source": [
    "### Initialization <a name=\"Initialization\"></a>\n",
    "The execution is done with an object from the class ReduceModel.\n",
    "we initialize it with all the previous argument either for the Diamond or Starfish example"
   ]
  },
  {
   "cell_type": "code",
   "execution_count": 13,
   "metadata": {
    "code_folding": [
     0
    ]
   },
   "outputs": [
    {
     "name": "stdout",
     "output_type": "stream",
     "text": [
      "periodSaveGIE : 3 | nbTrainingSet : 128 | nbIterations : 80\n",
      "List of phase :[[0, 0, 0, 0], [0, 0, 0, 1], [0, 0, 1, 0], [0, 1, 0, 0], [1, 0, 0, 0], [0, 0, 1, 1], [0, 1, 0, 1], [0, 1, 1, 0], [1, 0, 0, 1], [1, 0, 1, 0], [1, 1, 0, 0], [0, 1, 1, 1], [1, 0, 1, 1], [1, 1, 0, 1], [1, 1, 1, 0], [1, 1, 1, 1]]\n",
      "##################################################\n"
     ]
    }
   ],
   "source": [
    "# Initialization of our script\n",
    "nodesToReduce = nodesToReduce_DIAMOND # nodesToReduce_STARFISH\n",
    "listObjToAnimate = listObjToAnimate_DIAMOND # listObjToAnimate_STARFISH\n",
    "addRigidBodyModes = addRigidBodyModes_DIAMOND # addRigidBodyModes_STARFISH\n",
    "\n",
    "reduceMyModel = ReduceModel(    originalScene,  \n",
    "                                nodesToReduce,\n",
    "                                listObjToAnimate,\n",
    "                                tolModes,tolGIE,\n",
    "                                outputDir,\n",
    "                                meshDir,\n",
    "                                packageName = packageName,\n",
    "                                addToLib = addToLib,\n",
    "                                verbose = verbose,\n",
    "                                addRigidBodyModes = addRigidBodyModes)"
   ]
  },
  {
   "cell_type": "markdown",
   "metadata": {},
   "source": [
    "We can finally perform the actual reduction. here is a schematic to resume the differents steps we will perform : \n",
    "\n",
    "![MOR Process Schematic](../doc/images/MOR_plugin_execution_v2.png \"MOR Process Schematic\")\n",
    "\n",
    "### Phase 1 <a name=\"Phase 1\"></a>\n",
    "\n",
    "We modify the original scene to do the first step of MOR :   \n",
    "- We add animation to each actuators we want for our model \n",
    "- And add a writeState componant to save the shaking resulting states  "
   ]
  },
  {
   "cell_type": "code",
   "execution_count": 14,
   "metadata": {},
   "outputs": [
    {
     "name": "stdout",
     "output_type": "stream",
     "text": [
      "[140403049318144] processing threaded sofa task in: /tmp/sofa-launcher-LN9ICb/phase1_snapshots.py[140403040925440] processing threaded sofa task in: /tmp/sofa-launcher-WJArhM/phase1_snapshots.py\n",
      "\n",
      "[140403497883392] processing threaded sofa task in: /tmp/sofa-launcher-mQKwJo/phase1_snapshots.py\n",
      "[140403032532736] processing threaded sofa task in: /tmp/sofa-launcher-UknI_j/phase1_snapshots.py\n",
      "[140403049318144] processing threaded sofa task in: /tmp/sofa-launcher-5ruU24/phase1_snapshots.py[140403040925440] processing threaded sofa task in: /tmp/sofa-launcher-K4HtZb/phase1_snapshots.py\n",
      "\n",
      "[140403032532736] processing threaded sofa task in: /tmp/sofa-launcher-F0QOYI/phase1_snapshots.py\n",
      "[140403497883392] processing threaded sofa task in: /tmp/sofa-launcher-7d3vDO/phase1_snapshots.py\n",
      "[140403049318144] processing threaded sofa task in: /tmp/sofa-launcher-DyjiQ1/phase1_snapshots.py[140403040925440] processing threaded sofa task in: /tmp/sofa-launcher-coQYsE/phase1_snapshots.py\n",
      "\n",
      "[140403497883392] processing threaded sofa task in: /tmp/sofa-launcher-I5Akft/phase1_snapshots.py\n",
      "[140403032532736] processing threaded sofa task in: /tmp/sofa-launcher-21ey3v/phase1_snapshots.py\n",
      "[140403049318144] processing threaded sofa task in: /tmp/sofa-launcher-TNJOFh/phase1_snapshots.py\n",
      "[140403040925440] processing threaded sofa task in: /tmp/sofa-launcher-DuLF30/phase1_snapshots.py\n",
      "[140403497883392] processing threaded sofa task in: /tmp/sofa-launcher-aAxCuJ/phase1_snapshots.py\n",
      "[140403032532736] processing threaded sofa task in: /tmp/sofa-launcher-q8D8xd/phase1_snapshots.py\n",
      "PHASE 1 --- 21.9039502144 seconds ---\n"
     ]
    }
   ],
   "source": [
    "reduceMyModel.phase1()"
   ]
  },
  {
   "cell_type": "markdown",
   "metadata": {},
   "source": [
    "### Phase 2 <a name=\"Phase 2\"></a>\n",
    "\n",
    "With the previous result we combine all the generated state files into one to be able to extract from it the different mode"
   ]
  },
  {
   "cell_type": "code",
   "execution_count": 15,
   "metadata": {
    "scrolled": false
   },
   "outputs": [
    {
     "name": "stdout",
     "output_type": "stream",
     "text": [
      "###################################################\n",
      "Executing readStateFilesAndComputeModes.py\n",
      "\n",
      "Arguments :\n",
      "\n",
      "     INPUT  :\n",
      "     in stateFilePath         : /home/olivier/sofa/plugins/ModelOrderReduction/tools/sofa_test_scene/mesh/debug/stateFile.state\n",
      "     with arguments           :\n",
      "         -tolerance               : 0.001 \n",
      "\n",
      "     OUTPUT :\n",
      "         -modesFileName           : /home/olivier/sofa/plugins/ModelOrderReduction/tools/sofa_test_scene/mesh/data/modes.txt \n",
      "\n",
      "###################################################\n",
      "26 possible modes with a tolerance of 0.001\n",
      "PHASE 2 --- 0.332555055618 seconds ---\n"
     ]
    }
   ],
   "source": [
    "reduceMyModel.phase2()"
   ]
  },
  {
   "cell_type": "code",
   "execution_count": 16,
   "metadata": {
    "code_folding": [
     0
    ],
    "scrolled": true
   },
   "outputs": [
    {
     "ename": "NameError",
     "evalue": "name 'go' is not defined",
     "output_type": "error",
     "traceback": [
      "\u001b[0;31m---------------------------------------------------------------------------\u001b[0m",
      "\u001b[0;31mNameError\u001b[0m                                 Traceback (most recent call last)",
      "\u001b[0;32m<ipython-input-16-5979d552fe76>\u001b[0m in \u001b[0;36m<module>\u001b[0;34m()\u001b[0m\n\u001b[1;32m      5\u001b[0m \u001b[0mcontent\u001b[0m \u001b[0;34m=\u001b[0m \u001b[0;34m[\u001b[0m\u001b[0mx\u001b[0m\u001b[0;34m.\u001b[0m\u001b[0mstrip\u001b[0m\u001b[0;34m(\u001b[0m\u001b[0;34m)\u001b[0m \u001b[0;32mfor\u001b[0m \u001b[0mx\u001b[0m \u001b[0;32min\u001b[0m \u001b[0mcontent\u001b[0m\u001b[0;34m]\u001b[0m\u001b[0;34m\u001b[0m\u001b[0m\n\u001b[1;32m      6\u001b[0m \u001b[0;34m\u001b[0m\u001b[0m\n\u001b[0;32m----> 7\u001b[0;31m data = [go.Bar(x=range(1, len(content)+1),\n\u001b[0m\u001b[1;32m      8\u001b[0m             y=content)]\n\u001b[1;32m      9\u001b[0m \u001b[0;34m\u001b[0m\u001b[0m\n",
      "\u001b[0;31mNameError\u001b[0m: name 'go' is not defined"
     ]
    }
   ],
   "source": [
    "# Plot result\n",
    "with open(reduceMyModel.packageBuilder.debugDir+'Sdata.txt') as f:\n",
    "    content = f.readlines()\n",
    "    \n",
    "content = [x.strip() for x in content]\n",
    "\n",
    "data = [go.Bar(x=range(1, len(content)+1),\n",
    "            y=content)]\n",
    "\n",
    "iplot(data, filename='jupyter/basic_bar')"
   ]
  },
  {
   "cell_type": "code",
   "execution_count": 17,
   "metadata": {},
   "outputs": [
    {
     "name": "stdout",
     "output_type": "stream",
     "text": [
      "Maximum number of Modes : \n"
     ]
    },
    {
     "data": {
      "text/plain": [
       "26"
      ]
     },
     "execution_count": 17,
     "metadata": {},
     "output_type": "execute_result"
    }
   ],
   "source": [
    "print(\"Maximum number of Modes : \")\n",
    "reduceMyModel.reductionParam.nbrOfModes"
   ]
  },
  {
   "cell_type": "markdown",
   "metadata": {},
   "source": [
    "### Phase 3 <a name=\"Phase 3\"></a>\n",
    "\n",
    "We launch again a set of sofa scene with the sofa launcher with the same previous arguments but with a different scene\n",
    "\n",
    "This scene take the previous one and add the model order reduction component:\n",
    "- HyperReducedFEMForceField\n",
    "- MappedMatrixForceFieldAndMass\n",
    "- ModelOrderReductionMapping and produce an Hyper Reduced description of the model"
   ]
  },
  {
   "cell_type": "code",
   "execution_count": 18,
   "metadata": {},
   "outputs": [
    {
     "name": "stdout",
     "output_type": "stream",
     "text": [
      "[140402799662848] processing threaded sofa task in: /tmp/sofa-launcher-9hcNBF/phase2_prepareECSW.py\n",
      "[140402808055552] processing threaded sofa task in: /tmp/sofa-launcher-ULF9FI/phase2_prepareECSW.py\n",
      "[140402816448256] processing threaded sofa task in: /tmp/sofa-launcher-LWGAUq/phase2_prepareECSW.py[140402791270144] processing threaded sofa task in: /tmp/sofa-launcher-EFu7ce/phase2_prepareECSW.py\n",
      "\n",
      "[140402808055552] processing threaded sofa task in: /tmp/sofa-launcher-bqFGc3/phase2_prepareECSW.py[140402791270144] processing threaded sofa task in: /tmp/sofa-launcher-0pbjj2/phase2_prepareECSW.py\n",
      "\n",
      "[140402799662848] processing threaded sofa task in: /tmp/sofa-launcher-XFQz69/phase2_prepareECSW.py\n",
      "[140402816448256] processing threaded sofa task in: /tmp/sofa-launcher-OBroqT/phase2_prepareECSW.py\n",
      "[140402808055552] processing threaded sofa task in: /tmp/sofa-launcher-fytvmC/phase2_prepareECSW.py\n",
      "[140402816448256] processing threaded sofa task in: /tmp/sofa-launcher-RkGRfZ/phase2_prepareECSW.py\n",
      "[140402799662848] processing threaded sofa task in: /tmp/sofa-launcher-OmS3j9/phase2_prepareECSW.py\n",
      "[140402791270144] processing threaded sofa task in: /tmp/sofa-launcher-9HzcAU/phase2_prepareECSW.py\n",
      "[140402808055552] processing threaded sofa task in: /tmp/sofa-launcher-Wfxue8/phase2_prepareECSW.py\n",
      "[140402791270144] processing threaded sofa task in: /tmp/sofa-launcher-6emv6Q/phase2_prepareECSW.py\n",
      "[140402799662848] processing threaded sofa task in: /tmp/sofa-launcher-f8DiRt/phase2_prepareECSW.py\n",
      "[140402816448256] processing threaded sofa task in: /tmp/sofa-launcher-qMdn5j/phase2_prepareECSW.py\n",
      "PHASE 3 --- 41.8150000572 seconds ---\n"
     ]
    }
   ],
   "source": [
    "reduceMyModel.phase3()"
   ]
  },
  {
   "cell_type": "markdown",
   "metadata": {},
   "source": [
    "### Phase 4 <a name=\"Phase 4\"></a>\n",
    "\n",
    "Final step : we gather again all the results of the previous scenes into one and then compute the RID and Weigts with it. Additionnally we also compute the Active Nodes\n"
   ]
  },
  {
   "cell_type": "code",
   "execution_count": 19,
   "metadata": {
    "scrolled": true
   },
   "outputs": [
    {
     "name": "stdout",
     "output_type": "stream",
     "text": [
      "###################################################\n",
      "Executing readGieFileAndComputeRIDandWeights.py\n",
      "\n",
      "Arguments :\n",
      "\n",
      "     INPUT  :\n",
      "         -gieFilename    : /home/olivier/sofa/plugins/ModelOrderReduction/tools/sofa_test_scene/mesh/debug/HyperReducedFEMForceField_modelNode_Gie.txt\n",
      "     with arguments    :\n",
      "         -tolerance        : 0.05 \n",
      "\n",
      "     OUTPUT :\n",
      "         -RIDFileName                : /home/olivier/sofa/plugins/ModelOrderReduction/tools/sofa_test_scene/mesh/data/RID_modelNode.txt\n",
      "         -weightsFileName            : /home/olivier/sofa/plugins/ModelOrderReduction/tools/sofa_test_scene/mesh/data/weight_modelNode.txt \n",
      "\n",
      "###################################################\n",
      "[##################################################] 100.0% Compute Weight&RID\n",
      "###################################################\n",
      "Executing convertRIDinActiveNodes.py\n",
      "\n",
      "Arguments :\n",
      "\n",
      "     INPUT  :\n",
      "         -RIDFileName                : /home/olivier/sofa/plugins/ModelOrderReduction/tools/sofa_test_scene/mesh/data/RID_modelNode.txt\n",
      "         -connectivityFileName       : /home/olivier/sofa/plugins/ModelOrderReduction/tools/sofa_test_scene/mesh/debug/elmts_modelNode.txt\n",
      "     OUTPUT :\n",
      "         -listActiveNodesFileName    : /home/olivier/sofa/plugins/ModelOrderReduction/tools/sofa_test_scene/mesh/data/conectivity_modelNode.txt \n",
      "\n",
      "###################################################\n",
      "[140402782877440] processing threaded sofa task in: /tmp/sofa-launcher-yxlnqX/phase3_performECSW.py\n",
      "PHASE 4 --- 59.6571540833 seconds ---\n",
      "\n",
      "The reduction is now finished !\n"
     ]
    }
   ],
   "source": [
    "reducedScene = reduceMyModel.phase4()"
   ]
  },
  {
   "cell_type": "markdown",
   "metadata": {},
   "source": [
    "End of example you can now go test the results in the folder you have designed at the beginning of this tutorial\n",
    "\n",
    "## To go Further <a name=\"To go Further\"></a>\n",
    "***\n",
    "\n",
    "Here are some link to additionnal information about the plugin and a more detailed description of its operation\n",
    "\n",
    "**link to Olivier paper**\n",
    "\n",
    "**link to website doc**\n",
    "\n"
   ]
  }
 ],
 "metadata": {
  "kernelspec": {
   "display_name": "Python 2",
   "language": "python",
   "name": "python2"
  },
  "language_info": {
   "codemirror_mode": {
    "name": "ipython",
    "version": 2
   },
   "file_extension": ".py",
   "mimetype": "text/x-python",
   "name": "python",
   "nbconvert_exporter": "python",
   "pygments_lexer": "ipython2",
   "version": "2.7.12"
  }
 },
 "nbformat": 4,
 "nbformat_minor": 2
}
